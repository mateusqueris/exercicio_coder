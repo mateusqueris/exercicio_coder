{
  "cells": [
    {
      "cell_type": "code",
      "execution_count": 15,
      "metadata": {
        "colab": {
          "base_uri": "https://localhost:8080/"
        },
        "id": "udZ6tRJ0ceEg",
        "outputId": "2e4cadb8-57a9-467d-dc27-39c9d158a5e0"
      },
      "outputs": [
        {
          "name": "stdout",
          "output_type": "stream",
          "text": [
            "digite seu peso aqui: 1000000\n",
            "digite sua altura aqui: 1\n",
            "obesidade mórbida\n"
          ]
        }
      ],
      "source": [
        "peso = int(input(\"digite seu peso aqui: \"))\n",
        "altura = float(input(\"digite sua altura aqui: \"))\n",
        "\n",
        "imc = peso / (altura ** 2)\n",
        "\n",
        "if imc < 18.5:\n",
        "    print(\"abaixo do peso\")\n",
        "elif imc < 25:\n",
        "    print(\"peso normal\")\n",
        "elif imc < 30:\n",
        "    print(\"sobrepeso\")\n",
        "elif imc < 40:\n",
        "    print(\"obeso\")\n",
        "else:\n",
        "    print(\"obesidade mórbida\")\n"
      ]
    },
    {
      "cell_type": "code",
      "execution_count": 13,
      "metadata": {
        "colab": {
          "base_uri": "https://localhost:8080/"
        },
        "id": "xSnX3rB1eeWU",
        "outputId": "94e3e6b7-9cbd-4484-d923-3592dffb0acd"
      },
      "outputs": [
        {
          "name": "stdout",
          "output_type": "stream",
          "text": [
            "qual o item 1: 1\n",
            "qual o item 2: 2\n",
            "qual o item 3: 3\n",
            "qual o item 4: 4\n",
            "qual o item 5: 5\n",
            "[1, 2, 3, 4, 5]\n"
          ]
        }
      ],
      "source": [
        "lista = []\n",
        "\n",
        "for i in range(5):\n",
        "  item = int(input(f\"qual o item {i + 1}: \"))\n",
        "  lista.append(item)\n",
        "\n",
        "print(lista)"
      ]
    },
    {
      "cell_type": "code",
      "execution_count": 14,
      "metadata": {
        "colab": {
          "base_uri": "https://localhost:8080/"
        },
        "id": "cMnTTcLbfP1A",
        "outputId": "c1c119c0-1046-4869-a27c-fbfb51d78bd5"
      },
      "outputs": [
        {
          "name": "stdout",
          "output_type": "stream",
          "text": [
            "digite nomes separados por , mateus, queris, caique, santos\n",
            "['mateus', ' queris', ' caique', ' santos']\n"
          ]
        }
      ],
      "source": [
        "nomes = input(\"digite nomes separados por , \")\n",
        "\n",
        "divisaoNome = nomes.split(\",\")\n",
        "\n",
        "print(divisaoNome)"
      ]
    }
  ],
  "metadata": {
    "colab": {
      "provenance": []
    },
    "kernelspec": {
      "display_name": "Python 3",
      "name": "python3"
    },
    "language_info": {
      "name": "python"
    }
  },
  "nbformat": 4,
  "nbformat_minor": 0
}
